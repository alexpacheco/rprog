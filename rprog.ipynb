{
 "cells": [
  {
   "cell_type": "markdown",
   "metadata": {},
   "source": [
    "# R Basics\n",
    "\n",
    "- Use the console to use R as a simple calculator"
   ]
  },
  {
   "cell_type": "code",
   "execution_count": null,
   "metadata": {},
   "outputs": [],
   "source": [
    "1+2"
   ]
  },
  {
   "cell_type": "markdown",
   "metadata": {},
   "source": [
    "- The assignment symbol is \"<-\". The classical \"=\" symbol can also be used"
   ]
  },
  {
   "cell_type": "code",
   "execution_count": null,
   "metadata": {},
   "outputs": [],
   "source": [
    "a=2+3\n",
    "b<-10/a"
   ]
  },
  {
   "cell_type": "code",
   "execution_count": null,
   "metadata": {},
   "outputs": [],
   "source": [
    "a <- 3\n",
    "b <- sqrt(a)\n",
    "b"
   ]
  },
  {
   "cell_type": "markdown",
   "metadata": {},
   "source": [
    "## Data Classes\n",
    "\n",
    "* R has five atomic classes\n",
    "* Numeric\n",
    "    - Double is equivalent to numeric.\n",
    "    - Numbers in R are treated as numeric unless specified otherwise.\n",
    "* Integer\n",
    "* Complex\n",
    "* Character\n",
    "* Logical\n",
    "    - TRUE or FALSE\n",
    "* You can convert data from one type to the other using the `as.<Type>` functions\n",
    "* To check the class of an object, use the `is.<Type>` function."
   ]
  },
  {
   "cell_type": "code",
   "execution_count": null,
   "metadata": {},
   "outputs": [],
   "source": [
    "c <- 2i\n",
    "d <- TRUE\n",
    "d"
   ]
  },
  {
   "cell_type": "code",
   "execution_count": null,
   "metadata": {},
   "outputs": [],
   "source": [
    "as.numeric(d); as.character(b); is.complex(c)"
   ]
  },
  {
   "cell_type": "markdown",
   "metadata": {},
   "source": [
    "## Data Objects‐ Vectors\n",
    "\n",
    "* Vectors can only contain elements of the same class\n",
    "* Vectors can be constructed by\n",
    "    -  Using the `c()` function (concatenate)\n",
    "* Coercion will occur when mixed objects are passed to the `c()` function, as if the `as.<Type>()` function is explicitly called\n",
    "    -  Using the `vector()` function\n",
    "* One can use `[index]` to access individual element\n",
    "    -  Indices start from 1"
   ]
  },
  {
   "cell_type": "code",
   "execution_count": null,
   "metadata": {},
   "outputs": [],
   "source": [
    "# \"#\" indicates comment\n",
    "# \"<-\" performs assignment operation (you can use \"=\" as well, but \"<-\" is preferred)\n",
    "# numeric (double is the same as numeric)\n",
    "d <- c(1,2,3)\n",
    "# character\n",
    "d <- c(\"1\",\"2\",\"3\")\n",
    "# you can covert at object with as.TYPE\n",
    "# as. numeric changes the character vector created above to numeric\n",
    "as.numeric(d)"
   ]
  },
  {
   "cell_type": "code",
   "execution_count": null,
   "metadata": {},
   "outputs": [],
   "source": [
    "# The conversion doesn't always work though\n",
    "as.numeric(\"a\")"
   ]
  },
  {
   "cell_type": "code",
   "execution_count": null,
   "metadata": {},
   "outputs": [],
   "source": [
    "x <- c(0.5, 0.6) ## numeric\n",
    "x <- c(TRUE, FALSE) ## logical\n",
    "x <- c(T, F) ## logical\n",
    "x <- c(\"a\", \"b\", \"c\") ## character\n",
    "# The \":\" operator can be used to generate integer sequences\n",
    "x <- 9:29 ## integer\n",
    "x <- c(1+0i, 2+4i) ## complex\n",
    "x <- vector(\"numeric\", length = 10)\n",
    "# Coercion will occur when objects of different classes are mixed\n",
    "y <- c(1.7, \"a\") ## character\n",
    "y <- c(TRUE, 2) ## numeric\n",
    "y <- c(\"a\", TRUE) ## character\n",
    "# Can also coerce explicitly\n",
    "x <- 0:6\n",
    "class(x)"
   ]
  },
  {
   "cell_type": "code",
   "execution_count": null,
   "metadata": {},
   "outputs": [],
   "source": [
    "as.logical(x)"
   ]
  },
  {
   "cell_type": "markdown",
   "metadata": {},
   "source": [
    "- Vectorized Operations"
   ]
  },
  {
   "cell_type": "code",
   "execution_count": null,
   "metadata": {},
   "outputs": [],
   "source": [
    "x <- 1:4; y <- 6:9\n",
    "x + y"
   ]
  },
  {
   "cell_type": "code",
   "execution_count": null,
   "metadata": {},
   "outputs": [],
   "source": [
    "x > 2"
   ]
  },
  {
   "cell_type": "code",
   "execution_count": null,
   "metadata": {},
   "outputs": [],
   "source": [
    "x * y"
   ]
  },
  {
   "cell_type": "code",
   "execution_count": null,
   "metadata": {},
   "outputs": [],
   "source": [
    "print( x[x >= 3] )"
   ]
  },
  {
   "cell_type": "markdown",
   "metadata": {},
   "source": [
    "## Data Objects - Matrices\n",
    "\n",
    "* Matrices are vectors with a dimension attribute\n",
    "* R matrices can be constructed\n",
    "    -  Using the `matrix()` function\n",
    "\t  - Passing an dim attribute to a vector\n",
    "\t  -  Using the `cbind()` or `rbind()` functions\n",
    "* R matrices are constructed column‐wise\n",
    "* One can use `[<index>,<index>]` to access individual element"
   ]
  },
  {
   "cell_type": "code",
   "execution_count": null,
   "metadata": {},
   "outputs": [],
   "source": [
    "# Create a matrix using the matrix() function\n",
    "m <- matrix(1:6, nrow = 2, ncol = 3)\n",
    "m"
   ]
  },
  {
   "cell_type": "code",
   "execution_count": null,
   "metadata": {},
   "outputs": [],
   "source": [
    "dim(m)"
   ]
  },
  {
   "cell_type": "code",
   "execution_count": null,
   "metadata": {},
   "outputs": [],
   "source": [
    "attributes(m)"
   ]
  },
  {
   "cell_type": "code",
   "execution_count": null,
   "metadata": {},
   "outputs": [],
   "source": [
    "# Pass a dim attribute to a vector\n",
    "m <- 1:10\n",
    "m"
   ]
  },
  {
   "cell_type": "code",
   "execution_count": null,
   "metadata": {},
   "outputs": [],
   "source": [
    "dim(m) <- c(2, 5)\n",
    "m"
   ]
  },
  {
   "cell_type": "code",
   "execution_count": null,
   "metadata": {},
   "outputs": [],
   "source": [
    "# Row binding and column binding\n",
    "x <- 1:3\n",
    "y <- 10:12\n",
    "cbind(x, y)"
   ]
  },
  {
   "cell_type": "code",
   "execution_count": null,
   "metadata": {},
   "outputs": [],
   "source": [
    "rbind(x, y)"
   ]
  },
  {
   "cell_type": "code",
   "execution_count": null,
   "metadata": {},
   "outputs": [],
   "source": [
    "# Slicing\n",
    "m"
   ]
  },
  {
   "cell_type": "code",
   "execution_count": null,
   "metadata": {},
   "outputs": [],
   "source": [
    "# element at 2nd row, 3rd column\n",
    "m[2,3]"
   ]
  },
  {
   "cell_type": "code",
   "execution_count": null,
   "metadata": {},
   "outputs": [],
   "source": [
    "# entire i<sup>th</sup> row of m\n",
    "m[2,]"
   ]
  },
  {
   "cell_type": "code",
   "execution_count": null,
   "metadata": {},
   "outputs": [],
   "source": [
    "# entire j<sup>th</sup> column of m\n",
    "m[,3]"
   ]
  },
  {
   "cell_type": "markdown",
   "metadata": {},
   "source": [
    "## Data Objects - Lists\n",
    "\n",
    "* Lists are a special kind of vector that contains objects of different classes\n",
    "* Lists can be constructed by using the `list()` function\n",
    "* Lists can be indexed using `[[  ]]`\n"
   ]
  },
  {
   "cell_type": "code",
   "execution_count": null,
   "metadata": {},
   "outputs": [],
   "source": [
    "# Use the list() function to construct a list\n",
    "x <- list(1, \"a\", TRUE, 1 + 4i)\n",
    "x"
   ]
  },
  {
   "cell_type": "markdown",
   "metadata": {},
   "source": [
    "## Names\n",
    "\n",
    "* R objects can have names\n"
   ]
  },
  {
   "cell_type": "code",
   "execution_count": null,
   "metadata": {},
   "outputs": [],
   "source": [
    "# Each element in a vector can have a name\n",
    "x <- 1:3\n",
    "names(x)"
   ]
  },
  {
   "cell_type": "code",
   "execution_count": null,
   "metadata": {},
   "outputs": [],
   "source": [
    "names(x) <- c(\"a\",\"b\",\"c\")\n",
    "names(x)"
   ]
  },
  {
   "cell_type": "code",
   "execution_count": null,
   "metadata": {},
   "outputs": [],
   "source": [
    "x"
   ]
  },
  {
   "cell_type": "code",
   "execution_count": null,
   "metadata": {},
   "outputs": [],
   "source": [
    "# Lists\n",
    "x <- list(a = 1, b = 2, c = 3)\n",
    "x"
   ]
  },
  {
   "cell_type": "code",
   "execution_count": null,
   "metadata": {},
   "outputs": [],
   "source": [
    "# Names can be used to refer to individual element\n",
    "x$a"
   ]
  },
  {
   "cell_type": "code",
   "execution_count": null,
   "metadata": {},
   "outputs": [],
   "source": [
    "# Columns and rows of matrices\n",
    "m <- matrix(1:4, nrow = 2, ncol = 2)\n",
    "dimnames(m) <- list(c(\"a\", \"b\"), c(\"c\", \"d\"))\n",
    "m"
   ]
  },
  {
   "cell_type": "markdown",
   "metadata": {},
   "source": [
    "## Querying Object Attributes\n",
    "\n",
    "* The `class()` function\n",
    "* The `str()` function\n",
    "* The `attributes()` function reveals attributes of an object (does not work with vectors)\n",
    "    -  Class\n",
    "    -  Names\n",
    "    -  Dimensions\n",
    "    -  Length\n",
    "    -  User defined attributes\n",
    "* They work on all objects (including functions)"
   ]
  },
  {
   "cell_type": "code",
   "execution_count": null,
   "metadata": {},
   "outputs": [],
   "source": [
    "m <- matrix(1:10, nrow = 2, ncol = 5)\n",
    "str(matrix)"
   ]
  },
  {
   "cell_type": "code",
   "execution_count": null,
   "metadata": {},
   "outputs": [],
   "source": [
    "str(m)"
   ]
  },
  {
   "cell_type": "code",
   "execution_count": null,
   "metadata": {},
   "outputs": [],
   "source": [
    "str(str)"
   ]
  },
  {
   "cell_type": "markdown",
   "metadata": {},
   "source": [
    "## Data Class - Factors\n",
    "\n",
    "* Factors are used to represent categorical data.\n",
    "* Factors can be unordered or ordered.\n",
    "* Factors are treated specially by modelling functions like `lm()` and `glm()`"
   ]
  },
  {
   "cell_type": "code",
   "execution_count": null,
   "metadata": {},
   "outputs": [],
   "source": [
    "# Use the factor() function to construct a vector of factors\n",
    "# The order of levels can be set by the levels keyword\n",
    "x <- factor(c(\"yes\", \"yes\", \"no\", \"yes\", \"no\"), levels = c(\"yes\", \"no\"))\n",
    "x"
   ]
  },
  {
   "cell_type": "markdown",
   "metadata": {},
   "source": [
    "## Date and Time\n",
    "\n",
    "* R has a Date class for date data while times are represented by POSIX formats\n",
    "* One can convert a text string to date using the `as.Date()` function\n",
    "* The `strptime()` function can deal with dates and times in different formats.\n",
    "* The package \"`lubridate`\" provides many additional and convenient features"
   ]
  },
  {
   "cell_type": "code",
   "execution_count": null,
   "metadata": {},
   "outputs": [],
   "source": [
    "# Dates are stored internally as the number of days since 1970-01-01\n",
    "x <- as.Date(\"1970-01-01\")\n",
    "x"
   ]
  },
  {
   "cell_type": "code",
   "execution_count": null,
   "metadata": {},
   "outputs": [],
   "source": [
    "as.numeric(x)"
   ]
  },
  {
   "cell_type": "code",
   "execution_count": null,
   "metadata": {},
   "outputs": [],
   "source": [
    "x+1"
   ]
  },
  {
   "cell_type": "code",
   "execution_count": null,
   "metadata": {},
   "outputs": [],
   "source": [
    "# Times are stored internally as the number of seconds since 1970-01-01\n",
    "x <- Sys.time() ; x"
   ]
  },
  {
   "cell_type": "code",
   "execution_count": null,
   "metadata": {},
   "outputs": [],
   "source": [
    "as.numeric(x)"
   ]
  },
  {
   "cell_type": "code",
   "execution_count": null,
   "metadata": {},
   "outputs": [],
   "source": [
    "p <- as.POSIXlt(x)\n",
    "names(unclass(p))"
   ]
  },
  {
   "cell_type": "code",
   "execution_count": null,
   "metadata": {},
   "outputs": [],
   "source": [
    "p$sec"
   ]
  },
  {
   "cell_type": "markdown",
   "metadata": {},
   "source": [
    "## Missing Values\n",
    "\n",
    "* Missing values are denoted by `NA` or `NaN` for undefined mathematical operations.\n",
    "    - `is.na()` is used to test objects if they are `NA`\n",
    "    - `is.nan()` is used to test for `NaN`\n",
    "    - `NA` values have a class also, so there are integer `NA`, character `NA`, etc.\n",
    "    - A `NaN` value is also `NA` but the converse is not true"
   ]
  },
  {
   "cell_type": "code",
   "execution_count": null,
   "metadata": {},
   "outputs": [],
   "source": [
    "x <- c(1,2, NA, 10,3)\n",
    "is.na(x)"
   ]
  },
  {
   "cell_type": "code",
   "execution_count": null,
   "metadata": {},
   "outputs": [],
   "source": [
    "is.nan(x)"
   ]
  },
  {
   "cell_type": "code",
   "execution_count": null,
   "metadata": {},
   "outputs": [],
   "source": [
    "x <- c(1,2, NaN, NA,4)\n",
    "is.na(x)"
   ]
  },
  {
   "cell_type": "code",
   "execution_count": null,
   "metadata": {},
   "outputs": [],
   "source": [
    "is.nan(x)"
   ]
  },
  {
   "cell_type": "markdown",
   "metadata": {},
   "source": [
    "## Distributions and Random Variables\n",
    "\n",
    "* For each distribution R provides four functions: density (`d`), cumulative density (`p`), quantile (`q`), and random generation (`r`)\n",
    "    - The function name is of the form `[d|p|q|r]<name of distribution>`\n",
    "    - e.g. `qbinom()` gives the quantile of a binomial distribution\n"
   ]
  },
  {
   "cell_type": "code",
   "execution_count": null,
   "metadata": {},
   "outputs": [],
   "source": [
    "# Random generation from a uniform distribution.\n",
    "runif(10, 2, 4)"
   ]
  },
  {
   "cell_type": "code",
   "execution_count": null,
   "metadata": {},
   "outputs": [],
   "source": [
    "# You can name the arguments in the function call.\n",
    "runif(10, min = 2, max = 4)"
   ]
  },
  {
   "cell_type": "code",
   "execution_count": null,
   "metadata": {},
   "outputs": [],
   "source": [
    "# Given p value and degree of freedom, find the t-value.\n",
    "qt(p=0.975, df = 8)"
   ]
  },
  {
   "cell_type": "code",
   "execution_count": null,
   "metadata": {},
   "outputs": [],
   "source": [
    "# The inverse of the above function call\n",
    "pt(2.306, df = 8)"
   ]
  },
  {
   "cell_type": "markdown",
   "metadata": {},
   "source": [
    "## User Defined Functions\n",
    "* Similar to other languages, functions in R are defined by using the `function()` directives\n",
    "* The return value is the last expression in the function body to be evaluated.\n",
    "* Functions can be nested\n",
    "* Functions are R objects\n",
    "    - For example, they can be passed as an argument to other functions"
   ]
  },
  {
   "cell_type": "code",
   "execution_count": null,
   "metadata": {},
   "outputs": [],
   "source": [
    "newDef <- function(a,b)\n",
    " {\n",
    "     x = runif(10,a,b)\n",
    "     mean(x)\n",
    " }\n",
    "newDef(-1,1)"
   ]
  },
  {
   "cell_type": "markdown",
   "metadata": {},
   "source": [
    "## Control Structures\n",
    "* Control structures allow one to control the flow of execution.\n",
    "\n",
    "<table>\n",
    "<tr><td><code>if … else</code></td><td>testing a condition</td></tr>\n",
    "<tr><td><code>for</code></td><td>executing a loop (with fixed number of iterations)</td></tr>\n",
    "<tr><td><code>while</code></td><td>executing a loop when a condition is true</td></tr>\n",
    "<tr><td><code>repeat</code></td><td>executing an infinite loop</td></tr>\n",
    "<tr><td><code>break</code></td><td>breaking the execution of a loop</td></tr>\n",
    "<tr><td><code>next</code></td><td>skipping to next iteration</td></tr>\n",
    "<tr><td><code>return</code></td><td>exit a function</td></tr>\n",
    "</table>"
   ]
  },
  {
   "cell_type": "markdown",
   "metadata": {},
   "source": [
    "## Loops\n",
    "### for Loops"
   ]
  },
  {
   "cell_type": "code",
   "execution_count": null,
   "metadata": {},
   "outputs": [],
   "source": [
    "x <- c(\"a\", \"b\", \"c\", \"d\")\n",
    "# These loops have the same effect\n",
    "# Loop through the indices\n",
    "for(i in 1:4) {\n",
    "  print(x[i])\n",
    "}\n"
   ]
  },
  {
   "cell_type": "code",
   "execution_count": null,
   "metadata": {},
   "outputs": [],
   "source": [
    "# Loop using the seq_along() function\n",
    "for(i in seq_along(x)) {\n",
    "  print(x[i])\n",
    "}"
   ]
  },
  {
   "cell_type": "code",
   "execution_count": null,
   "metadata": {},
   "outputs": [],
   "source": [
    "# Loop through the name\n",
    "for(letter in x) {\n",
    "  print(letter)\n",
    "}"
   ]
  },
  {
   "cell_type": "code",
   "execution_count": null,
   "metadata": {},
   "outputs": [],
   "source": [
    "for(i in 1:4) print(x[i])"
   ]
  },
  {
   "cell_type": "markdown",
   "metadata": {},
   "source": [
    "### while loops\n",
    "\n",
    "* The `while` loop can be used to repeat a set of instructions\n",
    "* It is often used when you do not know in advance how often the instructions will be executed. \n",
    "* The basic format for a `while` loop is `while(cond) expr`"
   ]
  },
  {
   "cell_type": "code",
   "execution_count": null,
   "metadata": {},
   "outputs": [],
   "source": [
    "counter <- as.integer(readline(prompt=\"Enter an integer: \"))\n",
    "\n",
    "factorial <- 1                                                                                                                                                    \n",
    "while ( counter > 0)\n",
    "{\n",
    "   factorial <-  factorial * counter                                                                                                                   \n",
    "   counter = counter - 1                                                                                                                                 \n",
    "}\n",
    "\n",
    "print(factorial)"
   ]
  },
  {
   "cell_type": "markdown",
   "metadata": {},
   "source": [
    "### repeat loops\n",
    "\n",
    "* The `repeat` loop is similar to the `while` loop. \n",
    "* The difference is that it will always begin the loop the first time. The `while` loop will only start the loop if the condition is true the first time it is evaluated. \n",
    "* Another difference is that you have to explicitly specify when to stop the loop using the `break` command.\n",
    "\n",
    "### break and next statements\n",
    "\n",
    "* The `break` statement is used to stop the execution of the current loop. \n",
    "  - It will break out of the current loop. \n",
    "* The `next` statement is used to skip the statements that follow and restart the current loop. \n",
    "  - If a `for` loop is used then the `next` statement will update the loop variable.\n"
   ]
  },
  {
   "cell_type": "code",
   "execution_count": null,
   "metadata": {},
   "outputs": [],
   "source": [
    "counter <- as.integer(readline(prompt=\"Enter an integer: \"))\n",
    "\n",
    "dble_factorial <- 1\n",
    "\n",
    "repeat\n",
    "{\n",
    "    dble_factorial <- dble_factorial * counter\n",
    "    \n",
    "    if (counter <= 2)\n",
    "        break\n",
    "    else\n",
    "        counter = counter - 2\n",
    "    \n",
    "}\n",
    "\n",
    "print(dble_factorial)"
   ]
  },
  {
   "cell_type": "markdown",
   "metadata": {},
   "source": [
    "## The apply Function\n",
    "* The `apply()` function evaluate a function over\n",
    "the margins of an array\n",
    "    - More concise than the for loops (not necessarily\n",
    "faster)"
   ]
  },
  {
   "cell_type": "code",
   "execution_count": null,
   "metadata": {},
   "outputs": [],
   "source": [
    "# X: array objects\n",
    "# MARGIN: a vector giving the subscripts which the function will be applied over\n",
    "# FUN: a function to be applied\n",
    "str(apply)"
   ]
  },
  {
   "cell_type": "code",
   "execution_count": null,
   "metadata": {},
   "outputs": [],
   "source": [
    "x <- matrix(rnorm(200), 20, 10)\n",
    "# Row means\n",
    "apply(x, 1, mean)"
   ]
  },
  {
   "cell_type": "code",
   "execution_count": null,
   "metadata": {},
   "outputs": [],
   "source": [
    "# Column sums\n",
    "apply(x, 2, sum)"
   ]
  },
  {
   "cell_type": "code",
   "execution_count": null,
   "metadata": {},
   "outputs": [],
   "source": [
    "# 25th and 75th Quantiles for rows\n",
    "apply(x, 1, quantile, probs = c(0.25, 0.75))"
   ]
  },
  {
   "cell_type": "code",
   "execution_count": null,
   "metadata": {},
   "outputs": [],
   "source": [
    "dim(x)"
   ]
  },
  {
   "cell_type": "code",
   "execution_count": null,
   "metadata": {},
   "outputs": [],
   "source": [
    "# Change the dimensions of x\n",
    "dim(x) <- c(2,2,50)\n",
    "# Take average over the first two dimensions\n",
    "apply(x, c(1, 2), mean)"
   ]
  },
  {
   "cell_type": "code",
   "execution_count": null,
   "metadata": {},
   "outputs": [],
   "source": [
    "rowMeans(x, dims = 2)"
   ]
  },
  {
   "cell_type": "markdown",
   "metadata": {},
   "source": [
    "## R for Data Science\n",
    "\n",
    "* The `tidyverse` is a collection of R packages developed by RStudio’s chief scientist Hadley Wickham. \n",
    "     * `ggplot2` for data visualisation.\n",
    "     * `dplyr` for data manipulation.\n",
    "     * `tidyr` for data tidying.\n",
    "     * `readr` for data import.\n",
    "     * `purrr` for functional programming.\n",
    "     * `tibble` for tibbles, a modern re-imagining of data frames.\n",
    "* These packages work well together as part of larger data analysis pipeline. \n",
    "* To learn more about these tools and how they work together, read [R for Data Science](http://r4ds.had.co.nz/). \n",
    "\n",
    "## Tidyverse\n",
    "\n",
    "* What is Tidy Data?\n",
    "     * \"Tidy data\" is a term that describes a standardized approach to structuring datasets to make analyses and visualizations easier. \n",
    "* The core tidy data principles\n",
    "     * Variable make up the columns\n",
    "     * Observations make up the rows\n",
    "     * Values go into cells\n",
    "* `library(tidyverse)` will load the core tidyverse packages:"
   ]
  },
  {
   "cell_type": "code",
   "execution_count": null,
   "metadata": {},
   "outputs": [],
   "source": [
    "library(tidyverse)"
   ]
  },
  {
   "cell_type": "markdown",
   "metadata": {},
   "source": [
    "## Installing and Using Packages\n",
    "\n",
    "* To install a package, `mypackage`, enter `install.packages('mypackage')` on the R prompt\n",
    "* To use a package, `mypackage`, enter `library(mypackage)`\n",
    "* When you share R script, notebooks etc with others or use on multiple systems, there is no gaurantee that `mypackage` would be available. \n",
    "   * In this case `library(mypackage)` may give you an error.\n",
    "   * R provides a function called `require` that will check if the package is installed\n",
    "        * If installed, the package will be loaded\n",
    "        * Use a condition where the package can be installed if the `require` statement fails"
   ]
  },
  {
   "cell_type": "code",
   "execution_count": null,
   "metadata": {},
   "outputs": [],
   "source": [
    "if ( !require('lubridate')){\n",
    "    install.packages('lubridate')\n",
    "} "
   ]
  },
  {
   "cell_type": "markdown",
   "metadata": {},
   "source": [
    "## Tidyverse \n",
    "\n",
    "* Packages that are part of tidyverse but not loaded automatically\n",
    "   * `lubridate` for dates and date-times\n",
    "   * `magrittr` provides the pipe, %>% used throughout the tidyverse.\n",
    "   * `readxl` for .xls and .xlsx sheets.\n",
    "   * `haven` for SPSS, Stata, and SAS data. \n",
    "* packages that are not in the tidyverse, but are tidyverse-adjacent. They are very useful for importing data from other sources:\n",
    "   * `jsonlite` for JSON.\n",
    "   * `xml2` for XML.\n",
    "   * `httr` for web APIs.\n",
    "   * `rvest` for web scraping.\n",
    "   * `DBI` for relational databases\n",
    "\n",
    "\n",
    "## Readr Package\n",
    "\n",
    "* `readr` is to provide a fast and friendly way to read rectangular data (like csv, tsv, and fwf).\n",
    "* `readr` supports seven file formats with seven read_ functions:\n",
    "    * `read_csv()`: comma separated (CSV) files\n",
    "    * `read_csv2()`: semicolon separated file and \",\" for decimal point\n",
    "    * `read_tsv()`: tab separated files\n",
    "    * `read_delim()`: general delimited files\n",
    "    * `read_fwf()`: fixed width files\n",
    "    * `read_table()`: tabular files where colums are separated by white-space.\n",
    "    * `read_log()`: web log files\n",
    "* Usage\n",
    "    * `read_delim(file,delim)` \n",
    "          - `file`: path to a file, a connection, or literal data\n"
   ]
  },
  {
   "cell_type": "code",
   "execution_count": null,
   "metadata": {},
   "outputs": [],
   "source": [
    "# read daily usage report for Sol in AY 2016-17\n",
    "# usage is reported in terms of SUs used and jobs submitted for\n",
    "#  serial (1 cpu), single or smp ( > 1 cpu but max of 1 node) and \n",
    "#  parallel or multi node (> 1 node)  jobs \n",
    "daily <- read_delim('http://webapps.lehigh.edu/hpc/training/soldaily1617-public.csv',delim=\";\")"
   ]
  },
  {
   "cell_type": "markdown",
   "metadata": {},
   "source": [
    "## Dplyr\n",
    "\n",
    "* `dplyr` is a grammar of data manipulation, providing a consistent set of verbs to  solve the most common data manipulation challenges:\n",
    "  * `mutate()` adds new variables that are functions of existing variables\n",
    "  * `select()` picks variables based on their names.\n",
    "  * `filter()` picks cases based on their values.\n",
    "  * `summarise()` reduces multiple values down to a single summary.\n",
    "  * `arrange()` changes the ordering of the rows.\n",
    "* These all combine naturally with `group_by()` which allows you to perform any operation \"by group\"\n",
    "\n"
   ]
  },
  {
   "cell_type": "code",
   "execution_count": null,
   "metadata": {},
   "outputs": [],
   "source": [
    "daily %>% head"
   ]
  },
  {
   "cell_type": "code",
   "execution_count": null,
   "metadata": {},
   "outputs": [],
   "source": [
    "# Number of core hours available per month for AY 2016-17\n",
    "# Oct 1, 2016: Initial launch with 780 cpu\n",
    "# Mar 15, 2017: Added 192 cpus\n",
    "# May 1, 2017: Added 312 cpus\n",
    "# Total Available at end of AY 2016-17: 1284 cpus\n",
    "ay1617su <- c(580320.00,561600.00,580320.00,580320.00,524160.00,580320.00,699840.00,955296.00,924480.00,955296.00,955296.00,924480.00)"
   ]
  },
  {
   "cell_type": "code",
   "execution_count": null,
   "metadata": {},
   "outputs": [],
   "source": [
    "monthly <- daily %>% \n",
    "  group_by(Month=floor_date(as.Date(Day), \"month\"),Name,Department,PI,PIDept,Status) %>% \n",
    "  summarize(Serial=sum(as.double(Serial)), # Single core or serial SUs consumed\n",
    "    Single=sum(as.double(Single)), # Single node - multi core SUs consumed\n",
    "    Multi=sum(as.double(Multi)), # Multi node SUs consumed\n",
    "    Total=sum(as.double(Total)), # Total SUs consumed\n",
    "    SerialJ=sum(as.double(SerialJ)), # Number of Single core or serial jobs \n",
    "    SingleJ=sum(as.double(SingleJ)), # Number of Single node - multi core jobs\n",
    "    MultiJ=sum(as.double(MultiJ)), # Number Multi node jobs\n",
    "    TotalJ=sum(as.double(TotalJ))) # Total Number of jobs jobs\n",
    "monthly %>% head"
   ]
  },
  {
   "cell_type": "markdown",
   "metadata": {},
   "source": [
    "## Sol Monthly Usage for AY 2016-17"
   ]
  },
  {
   "cell_type": "code",
   "execution_count": null,
   "metadata": {},
   "outputs": [],
   "source": [
    "monthly %>% \n",
    "  group_by(Month) %>%   \n",
    "  summarize(Total=round(sum(as.double(Total)),2),Jobs=round(sum(as.double(TotalJ)))) %>%\n",
    "  mutate(Available=ay1617su,Unused=Available-Total,Percent=round(Total/Available*100,2)) -> monthlyusage\n",
    "monthlyusage"
   ]
  },
  {
   "cell_type": "markdown",
   "metadata": {},
   "source": [
    "## Sol usage per PI's Department\n",
    "\n"
   ]
  },
  {
   "cell_type": "code",
   "execution_count": null,
   "metadata": {},
   "outputs": [],
   "source": [
    "library(knitr)\n",
    "monthly %>%\n",
    "  group_by(PIDept) %>%\n",
    "  summarize(Total=round(sum(as.double(Total)),2),Jobs=round(sum(as.double(TotalJ)))) -> monthlypidept\n",
    "monthlypidept %>% kable"
   ]
  },
  {
   "cell_type": "markdown",
   "metadata": {},
   "source": [
    "## Sol usage by user's department or major"
   ]
  },
  {
   "cell_type": "code",
   "execution_count": null,
   "metadata": {},
   "outputs": [],
   "source": [
    "monthly %>%\n",
    "  group_by(Department) %>%\n",
    "  summarize(Serial=round(sum(as.double(Serial))),SMP=round(sum(as.double(Single))),DMP=round(sum(as.double(Multi))),Total=round(sum(as.double(Total)),2),Jobs=round(sum(as.double(TotalJ)))) %>%\n",
    "  arrange(desc(Total)) -> monthlyuser\n",
    "monthlyuser"
   ]
  },
  {
   "cell_type": "markdown",
   "metadata": {},
   "source": [
    "## Need code for creating LaTeX documents\n",
    "\n",
    "- The `xtable` package works on RMarkdown documents doesn't work in Jupyter Notebooks"
   ]
  },
  {
   "cell_type": "code",
   "execution_count": null,
   "metadata": {},
   "outputs": [],
   "source": [
    "library(xtable)\n",
    "monthlyuser %>% xtable"
   ]
  },
  {
   "cell_type": "markdown",
   "metadata": {},
   "source": [
    "## Sol usage by user affiliation"
   ]
  },
  {
   "cell_type": "code",
   "execution_count": null,
   "metadata": {},
   "outputs": [],
   "source": [
    "monthly %>%\n",
    "  group_by(Status) %>%\n",
    "  summarize(Total=round(sum(as.double(Total)),2)) -> monthlystatus\n",
    "monthlystatus"
   ]
  },
  {
   "cell_type": "markdown",
   "metadata": {},
   "source": [
    "## Tidyr\n",
    "\n",
    "* The goal of `tidyr` is to help you create tidy data.\n",
    "* Tidy data is data where:\n",
    "   * Each variable is in a column.\n",
    "   * Each observation is a row.\n",
    "   * Each value is a cell.\n",
    "* Tidy data describes a standard way of storing data that is used wherever\n",
    " possible throughout the `tidyverse`. \n",
    "* If you ensure that your data is tidy, you’ll spend less timing fighting with the tools and more time working on your analysis.\n",
    "\n",
    "* two fundamental verbs of data tidying:\n",
    "   * `gather()` takes multiple columns, and gathers them into key-value pairs\n",
    "   * `spread()`. takes two columns (key & value) and spreads in to multiple columns\n"
   ]
  },
  {
   "cell_type": "code",
   "execution_count": null,
   "metadata": {},
   "outputs": [],
   "source": [
    "daily %>% \n",
    "  filter(as.Date(Day) >= \"2017-02-01\" & as.Date(Day) <= \"2017-03-01\") %>% \n",
    "  select(Day,Name,Department,PI,PIDept,Serial,Single,Multi) %>% \n",
    "  gather(JobType,Usage,Serial:Multi) %>% \n",
    "  filter(as.double(Usage) > 100 ) -> tmp\n",
    "tmp %>% arrange(Usage) %>% head"
   ]
  },
  {
   "cell_type": "code",
   "execution_count": null,
   "metadata": {},
   "outputs": [],
   "source": [
    "tmp %>% arrange(Usage) %>% \n",
    "  spread(JobType,Usage,fill = 0.0) %>% head"
   ]
  },
  {
   "cell_type": "markdown",
   "metadata": {},
   "source": [
    "## Other Tidyr functions\n",
    "\n",
    "* `separate()`: Splitting a single variable into two"
   ]
  },
  {
   "cell_type": "code",
   "execution_count": null,
   "metadata": {},
   "outputs": [],
   "source": [
    "daily %>% \n",
    "   select(c(Department,Day,Total)) %>% \n",
    "   separate(Day,c(\"Year\",\"Month\",\"Day\"),sep=\"-\") -> tmp\n",
    "head(tmp)"
   ]
  },
  {
   "cell_type": "markdown",
   "metadata": {},
   "source": [
    "* `unite()`: Merging two variables into one"
   ]
  },
  {
   "cell_type": "code",
   "execution_count": null,
   "metadata": {},
   "outputs": [],
   "source": [
    "tmp %>%\n",
    "  unite(Day,c(\"Year\",\"Month\",\"Day\"),sep=\"/\") %>%\n",
    "  tail"
   ]
  },
  {
   "cell_type": "markdown",
   "metadata": {},
   "source": [
    "## Data Visualization\n",
    "\n",
    "* __Data visualization__ or __data visualisation__ is viewed by many disciplines as a modern equivalent of visual communication.\n",
    "* It involves the creation and study of the visual representation of data.\n",
    "* A primary goal of data visualization is to communicate information clearly and efficiently via statistical graphics, plots and information graphics. \n",
    "* Data visualization is both an art and a science.\n",
    "\n",
    "### Data Visualization Tools\n",
    "\n",
    "* There are vast number of Data Visualization Tools targeted for different audiences\n",
    "* A few used by academic researchers \n",
    "     * Tableau\n",
    "     * Google Charts\n",
    "     * R\n",
    "     * Python\n",
    "     * Matlab\n",
    "     * GNUPlot\n",
    "\n",
    "   \n",
    "\n",
    "\n",
    "## ggplot2 Package\n",
    "\n",
    "\n",
    "- \"gg\" stands for Grammar-of-Graphics\n",
    "- The idea is that any data graphics can be described by specifying\n",
    "    - A dataset\n",
    "    - Visual marks that represent data points\n",
    "    - A coordination system\n",
    "- `ggplot2` package in R is an implementation of it\n",
    "    - Versatile\n",
    "    - Clear and consistent interface\n",
    "    - Beautiful output\n",
    "\n",
    "\n"
   ]
  },
  {
   "cell_type": "code",
   "execution_count": null,
   "metadata": {},
   "outputs": [],
   "source": [
    "p <- monthlystatus %>%\n",
    "  ggplot(aes(x=Status,y=Total)) + geom_col()\n",
    "p"
   ]
  },
  {
   "cell_type": "code",
   "execution_count": null,
   "metadata": {},
   "outputs": [],
   "source": [
    "p + coord_flip()"
   ]
  },
  {
   "cell_type": "markdown",
   "metadata": {},
   "source": [
    "## Bar Chart Monthly Usage"
   ]
  },
  {
   "cell_type": "code",
   "execution_count": null,
   "metadata": {},
   "outputs": [],
   "source": [
    "p <- monthlyusage %>%\n",
    "  ggplot(aes(Month,Percent)) + geom_col()\n",
    "p"
   ]
  },
  {
   "cell_type": "markdown",
   "metadata": {},
   "source": [
    "* Add Plot Title and Caption, and x and y labels"
   ]
  },
  {
   "cell_type": "code",
   "execution_count": null,
   "metadata": {},
   "outputs": [],
   "source": [
    "p + labs(title=\"Sol Usage\", y=\"Percent\", x=\"Month\", caption=\"AY 2016-17\")"
   ]
  },
  {
   "cell_type": "markdown",
   "metadata": {},
   "source": [
    "## Line Charts"
   ]
  },
  {
   "cell_type": "code",
   "execution_count": null,
   "metadata": {},
   "outputs": [],
   "source": [
    "p <- daily %>%\n",
    "  group_by(Day, PIDept) %>%\n",
    "  summarize(Total=round(sum(as.double(Total)),2),Jobs=round(sum(as.double(TotalJ)))) %>%\n",
    "  ggplot(aes(Day,Total)) + geom_line(aes(col = PIDept))\n",
    "p"
   ]
  },
  {
   "cell_type": "markdown",
   "metadata": {},
   "source": [
    "Plot is very busy. There are several options to clean this up.\n",
    "* summarize by week or month\n",
    "* take a running average or add a smoothing function\n",
    "* create separate plots for each Department using facet_wrap"
   ]
  },
  {
   "cell_type": "code",
   "execution_count": null,
   "metadata": {},
   "outputs": [],
   "source": [
    "p + facet_wrap( ~PIDept)"
   ]
  },
  {
   "cell_type": "markdown",
   "metadata": {},
   "source": [
    "It's not very useful at first try. That may due to data. It would be ideal if each subplot had it's y-axis limits. This is achieved by adding _scales=\"free\"_ as an option to facet_wrap. You can also adjust the number of rows or columns by adding _nrow_ or _ncol_ as an option. Finally the legend is redundant. You can remove the legend by adding _theme(legend.position='none')_\n",
    "\n",
    "Combining all these options we get"
   ]
  },
  {
   "cell_type": "code",
   "execution_count": null,
   "metadata": {},
   "outputs": [],
   "source": [
    "p + facet_wrap( ~PIDept, scales = \"free\", ncol = 2) + theme(legend.position='none')"
   ]
  },
  {
   "cell_type": "markdown",
   "metadata": {},
   "source": [
    "## Animations\n",
    "\n",
    "__If a Picture is Worth a Thousand Words, Then Is a Video Worth a Million?__\n",
    "\n",
    "What is an animation really? Just a collection of images that appear at a high frequency or frame rate. If you have a collection of pictures, you can convert them to gif, mpeg, or any other video format using tools like ImageMagick or ffmpeg. R provides tools that will convert a collection of images from plots to video provided you have one of these conversion tools."
   ]
  },
  {
   "cell_type": "code",
   "execution_count": null,
   "metadata": {},
   "outputs": [],
   "source": [
    "if(!require('animation')){\n",
    "    install.packages('animation')\n",
    "}\n",
    "if(!require('gganimate')){\n",
    "    install.packages('animation')\n",
    "}"
   ]
  },
  {
   "cell_type": "code",
   "execution_count": null,
   "metadata": {},
   "outputs": [],
   "source": [
    "weeklyusage_status <- daily %>%\n",
    "  group_by(Week=floor_date(as.Date(Day), \"week\"),Status) %>% \n",
    "  summarize(Total=round(sum(as.double(Total)),2),Jobs=round(sum(as.double(TotalJ)))) %>%\n",
    "  ggplot(aes(Week,Total,frame=Week,cumulative=TRUE)) + geom_line(aes(col = Status)) +\n",
    "  facet_wrap( ~Status, scales = \"free\", ncol = 2) + theme(legend.position='none')"
   ]
  },
  {
   "cell_type": "code",
   "execution_count": null,
   "metadata": {},
   "outputs": [],
   "source": [
    "ani.options(interval = 0.1, ani.width = 640, ani.height = 480)\n",
    "gganimate(weeklyusage_status,'weeklystatus.gif')"
   ]
  },
  {
   "cell_type": "markdown",
   "metadata": {},
   "source": [
    "![Usage by Users Status](weeklystatus.gif)"
   ]
  },
  {
   "cell_type": "code",
   "execution_count": null,
   "metadata": {},
   "outputs": [],
   "source": []
  }
 ],
 "metadata": {
  "kernelspec": {
   "display_name": "R",
   "language": "R",
   "name": "ir"
  },
  "language_info": {
   "codemirror_mode": "r",
   "file_extension": ".r",
   "mimetype": "text/x-r-source",
   "name": "R",
   "pygments_lexer": "r",
   "version": "3.4.3"
  }
 },
 "nbformat": 4,
 "nbformat_minor": 2
}
